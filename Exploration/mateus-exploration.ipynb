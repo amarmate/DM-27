{
 "cells": [
  {
   "cell_type": "code",
   "execution_count": 171,
   "metadata": {},
   "outputs": [],
   "source": [
    "import pandas as pd\n",
    "import numpy as np \n",
    "import ydata_profiling\n",
    "import matplotlib.pyplot as plt\n",
    "\n",
    "# Scalers \n",
    "from sklearn.preprocessing import StandardScaler\n",
    "from sklearn.preprocessing import MinMaxScaler\n",
    "from sklearn.preprocessing import RobustScaler\n",
    "\n",
    "# Imputers\n",
    "from sklearn.impute import KNNImputer\n",
    "\n"
   ]
  },
  {
   "cell_type": "code",
   "execution_count": 172,
   "metadata": {},
   "outputs": [],
   "source": [
    "data = pd.read_csv('../Datasets/XYZ_sports_dataset.csv', sep=';')"
   ]
  },
  {
   "cell_type": "markdown",
   "metadata": {},
   "source": [
    "### __First analysis and selection with pandas profiling__"
   ]
  },
  {
   "cell_type": "markdown",
   "metadata": {},
   "source": [
    "##### 0. Profiling"
   ]
  },
  {
   "cell_type": "code",
   "execution_count": 173,
   "metadata": {},
   "outputs": [],
   "source": [
    "# Lets make a profiling report\n",
    "#profile = pandas_profiling.ProfileReport(data)\n",
    "#profile.to_file(outputfile=\"XYZ_sports_dataset.html\")"
   ]
  },
  {
   "cell_type": "markdown",
   "metadata": {},
   "source": [
    "##### 1. Constant features\n",
    "- DanceActivities\n",
    "- NatureActivities"
   ]
  },
  {
   "cell_type": "code",
   "execution_count": 174,
   "metadata": {},
   "outputs": [],
   "source": [
    "data = data.drop(['DanceActivities', 'NatureActivities'], axis=1)"
   ]
  },
  {
   "cell_type": "markdown",
   "metadata": {},
   "source": [
    "##### 2. Quasi-constant features (highly inbalanced)\n",
    "- OtherActivities (98.0%)\n",
    "- AtheleticsActivities (93.7%)\n",
    "- NumberOfReferences (92.4%)\n",
    "\n",
    "Using a threshold of 90%. Variables not listed have a lower percentage of imbalance."
   ]
  },
  {
   "cell_type": "code",
   "execution_count": 175,
   "metadata": {},
   "outputs": [],
   "source": [
    "droped = data[['OtherActivities', 'NumberOfReferences', 'AthleticsActivities']]\n",
    "data = data.drop(['OtherActivities', 'NumberOfReferences', 'AthleticsActivities'], axis=1)"
   ]
  },
  {
   "cell_type": "markdown",
   "metadata": {},
   "source": [
    "##### 3. Uniform features that provide no information \n",
    "Since all values are unique and they dont provide any kind of ordinal information, they are removed.\n",
    "- ID"
   ]
  },
  {
   "cell_type": "code",
   "execution_count": 176,
   "metadata": {},
   "outputs": [],
   "source": [
    "data = data.drop(['ID'], axis=1)"
   ]
  },
  {
   "cell_type": "markdown",
   "metadata": {},
   "source": [
    "### __Feature name change for better understanding__\n",
    "Like this, I will be able to access them more easily and understand what they are.\n",
    "1. Binary will start with a b\n",
    "2. Numerical will start with n\n",
    "3. Date will start with d"
   ]
  },
  {
   "cell_type": "code",
   "execution_count": 177,
   "metadata": {},
   "outputs": [],
   "source": [
    "data.columns = ['n_age', 'b_gender', 'n_income', 'd_enrollmentStart', 'd_enrollmentFinish', 'd_lastPeriodStart', 'd_lastPeriodFinish', 'd_lastVisit', 'n_daysWithoutFrequency', 'n_lifetimeValue',\n",
    "                'b_useByTime', 'b_waterActivities', 'b_fitnessActivities', 'b_teamActivities', 'b_racketActivities', 'b_combatActivities', 'b_specialActivities', 'n_frequencies',\n",
    "                'n_attendedClasses', 'n_allowedWeeklyVisits', 'n_allowedVisits', 'n_realVisits', 'n_renewals', 'b_hasReferences', 'b_dropout']\n",
    "\n",
    "data['b_gender'] = data['b_gender'].map({'Male' : 0, 'Female' : 1})"
   ]
  },
  {
   "cell_type": "markdown",
   "metadata": {},
   "source": [
    "Lets recheck the imbalances in the binary and numerical features <br><br>\n",
    "__1. Binary features__"
   ]
  },
  {
   "cell_type": "code",
   "execution_count": 178,
   "metadata": {},
   "outputs": [
    {
     "data": {
      "text/html": [
       "<div>\n",
       "<style scoped>\n",
       "    .dataframe tbody tr th:only-of-type {\n",
       "        vertical-align: middle;\n",
       "    }\n",
       "\n",
       "    .dataframe tbody tr th {\n",
       "        vertical-align: top;\n",
       "    }\n",
       "\n",
       "    .dataframe thead th {\n",
       "        text-align: right;\n",
       "    }\n",
       "</style>\n",
       "<table border=\"1\" class=\"dataframe\">\n",
       "  <thead>\n",
       "    <tr style=\"text-align: right;\">\n",
       "      <th></th>\n",
       "      <th>balance</th>\n",
       "    </tr>\n",
       "  </thead>\n",
       "  <tbody>\n",
       "    <tr>\n",
       "      <th>b_fitnessActivities</th>\n",
       "      <td>73.6</td>\n",
       "    </tr>\n",
       "    <tr>\n",
       "      <th>b_gender</th>\n",
       "      <td>67.3</td>\n",
       "    </tr>\n",
       "    <tr>\n",
       "      <th>b_waterActivities</th>\n",
       "      <td>42.1</td>\n",
       "    </tr>\n",
       "    <tr>\n",
       "      <th>b_dropout</th>\n",
       "      <td>24.8</td>\n",
       "    </tr>\n",
       "    <tr>\n",
       "      <th>b_combatActivities</th>\n",
       "      <td>12.1</td>\n",
       "    </tr>\n",
       "    <tr>\n",
       "      <th>b_teamActivities</th>\n",
       "      <td>5.9</td>\n",
       "    </tr>\n",
       "    <tr>\n",
       "      <th>b_useByTime</th>\n",
       "      <td>4.9</td>\n",
       "    </tr>\n",
       "    <tr>\n",
       "      <th>b_specialActivities</th>\n",
       "      <td>2.7</td>\n",
       "    </tr>\n",
       "    <tr>\n",
       "      <th>b_racketActivities</th>\n",
       "      <td>2.4</td>\n",
       "    </tr>\n",
       "    <tr>\n",
       "      <th>b_hasReferences</th>\n",
       "      <td>2.0</td>\n",
       "    </tr>\n",
       "  </tbody>\n",
       "</table>\n",
       "</div>"
      ],
      "text/plain": [
       "                     balance\n",
       "b_fitnessActivities     73.6\n",
       "b_gender                67.3\n",
       "b_waterActivities       42.1\n",
       "b_dropout               24.8\n",
       "b_combatActivities      12.1\n",
       "b_teamActivities         5.9\n",
       "b_useByTime              4.9\n",
       "b_specialActivities      2.7\n",
       "b_racketActivities       2.4\n",
       "b_hasReferences          2.0"
      ]
     },
     "execution_count": 178,
     "metadata": {},
     "output_type": "execute_result"
    }
   ],
   "source": [
    "binary_features = [col for col in data.columns if col.startswith('b_')]\n",
    "\n",
    "balance = {}\n",
    "for feature in binary_features:\n",
    "    value_counts = data.value_counts(feature)\n",
    "    balance[feature] = 100* round(value_counts.min() / value_counts.max(),3)\n",
    "\n",
    "balance = pd.DataFrame.from_dict(balance, orient='index', columns=['balance'])\n",
    "balance = balance.sort_values(by='balance', ascending=False)\n",
    "balance"
   ]
  },
  {
   "cell_type": "markdown",
   "metadata": {},
   "source": [
    "Segmenting customers in such smalls groups is not the best idea (2% of the data). Lets set the threshold to 3% and remove the features that have less than that. \n",
    "We will, of course, keep a backup of the dropped features, because they might be useful for feature engineering:\n",
    "- Joining the very unlikely activities into one feature might prove useful, but that's an idea for later"
   ]
  },
  {
   "cell_type": "code",
   "execution_count": 179,
   "metadata": {},
   "outputs": [],
   "source": [
    "# Remove features with balance < 3%\n",
    "remove = balance[balance['balance'] < 3].index.to_list()\n",
    "droped = pd.concat([data[remove], droped], axis=1)\n",
    "data = data.drop(remove, axis=1)"
   ]
  },
  {
   "cell_type": "markdown",
   "metadata": {},
   "source": [
    "\n",
    "__2. Numerical Features__"
   ]
  },
  {
   "cell_type": "code",
   "execution_count": 180,
   "metadata": {},
   "outputs": [],
   "source": [
    "numerical_features = [col for col in data.columns if col.startswith('n_')]"
   ]
  },
  {
   "cell_type": "code",
   "execution_count": 181,
   "metadata": {},
   "outputs": [
    {
     "data": {
      "text/html": [
       "<div>\n",
       "<style scoped>\n",
       "    .dataframe tbody tr th:only-of-type {\n",
       "        vertical-align: middle;\n",
       "    }\n",
       "\n",
       "    .dataframe tbody tr th {\n",
       "        vertical-align: top;\n",
       "    }\n",
       "\n",
       "    .dataframe thead th {\n",
       "        text-align: right;\n",
       "    }\n",
       "</style>\n",
       "<table border=\"1\" class=\"dataframe\">\n",
       "  <thead>\n",
       "    <tr style=\"text-align: right;\">\n",
       "      <th></th>\n",
       "      <th>count</th>\n",
       "      <th>mean</th>\n",
       "      <th>std</th>\n",
       "      <th>min</th>\n",
       "      <th>25%</th>\n",
       "      <th>50%</th>\n",
       "      <th>75%</th>\n",
       "      <th>max</th>\n",
       "    </tr>\n",
       "  </thead>\n",
       "  <tbody>\n",
       "    <tr>\n",
       "      <th>n_age</th>\n",
       "      <td>14942.0</td>\n",
       "      <td>26.015794</td>\n",
       "      <td>14.156582</td>\n",
       "      <td>0.00</td>\n",
       "      <td>19.00</td>\n",
       "      <td>23.00</td>\n",
       "      <td>31.000</td>\n",
       "      <td>87.00</td>\n",
       "    </tr>\n",
       "    <tr>\n",
       "      <th>n_income</th>\n",
       "      <td>14447.0</td>\n",
       "      <td>2230.816086</td>\n",
       "      <td>1566.527734</td>\n",
       "      <td>0.00</td>\n",
       "      <td>1470.00</td>\n",
       "      <td>1990.00</td>\n",
       "      <td>2790.000</td>\n",
       "      <td>10890.00</td>\n",
       "    </tr>\n",
       "    <tr>\n",
       "      <th>n_daysWithoutFrequency</th>\n",
       "      <td>14942.0</td>\n",
       "      <td>81.224936</td>\n",
       "      <td>144.199576</td>\n",
       "      <td>0.00</td>\n",
       "      <td>13.00</td>\n",
       "      <td>41.00</td>\n",
       "      <td>83.750</td>\n",
       "      <td>1745.00</td>\n",
       "    </tr>\n",
       "    <tr>\n",
       "      <th>n_lifetimeValue</th>\n",
       "      <td>14942.0</td>\n",
       "      <td>302.561871</td>\n",
       "      <td>364.319566</td>\n",
       "      <td>0.00</td>\n",
       "      <td>83.60</td>\n",
       "      <td>166.20</td>\n",
       "      <td>355.075</td>\n",
       "      <td>6727.80</td>\n",
       "    </tr>\n",
       "    <tr>\n",
       "      <th>n_frequencies</th>\n",
       "      <td>14916.0</td>\n",
       "      <td>40.120542</td>\n",
       "      <td>65.466459</td>\n",
       "      <td>1.00</td>\n",
       "      <td>7.00</td>\n",
       "      <td>18.00</td>\n",
       "      <td>45.000</td>\n",
       "      <td>1031.00</td>\n",
       "    </tr>\n",
       "    <tr>\n",
       "      <th>n_attendedClasses</th>\n",
       "      <td>14942.0</td>\n",
       "      <td>10.152456</td>\n",
       "      <td>29.154202</td>\n",
       "      <td>0.00</td>\n",
       "      <td>0.00</td>\n",
       "      <td>0.00</td>\n",
       "      <td>3.000</td>\n",
       "      <td>581.00</td>\n",
       "    </tr>\n",
       "    <tr>\n",
       "      <th>n_allowedWeeklyVisits</th>\n",
       "      <td>14407.0</td>\n",
       "      <td>5.759561</td>\n",
       "      <td>2.118867</td>\n",
       "      <td>1.00</td>\n",
       "      <td>4.00</td>\n",
       "      <td>7.00</td>\n",
       "      <td>7.000</td>\n",
       "      <td>7.00</td>\n",
       "    </tr>\n",
       "    <tr>\n",
       "      <th>n_allowedVisits</th>\n",
       "      <td>14942.0</td>\n",
       "      <td>41.636299</td>\n",
       "      <td>21.066166</td>\n",
       "      <td>0.56</td>\n",
       "      <td>25.72</td>\n",
       "      <td>38.99</td>\n",
       "      <td>60.970</td>\n",
       "      <td>240.03</td>\n",
       "    </tr>\n",
       "    <tr>\n",
       "      <th>n_realVisits</th>\n",
       "      <td>14942.0</td>\n",
       "      <td>5.320707</td>\n",
       "      <td>6.332958</td>\n",
       "      <td>0.00</td>\n",
       "      <td>1.00</td>\n",
       "      <td>4.00</td>\n",
       "      <td>7.000</td>\n",
       "      <td>84.00</td>\n",
       "    </tr>\n",
       "    <tr>\n",
       "      <th>n_renewals</th>\n",
       "      <td>14942.0</td>\n",
       "      <td>1.205260</td>\n",
       "      <td>1.381305</td>\n",
       "      <td>0.00</td>\n",
       "      <td>0.00</td>\n",
       "      <td>1.00</td>\n",
       "      <td>2.000</td>\n",
       "      <td>6.00</td>\n",
       "    </tr>\n",
       "  </tbody>\n",
       "</table>\n",
       "</div>"
      ],
      "text/plain": [
       "                          count         mean          std   min      25%  \\\n",
       "n_age                   14942.0    26.015794    14.156582  0.00    19.00   \n",
       "n_income                14447.0  2230.816086  1566.527734  0.00  1470.00   \n",
       "n_daysWithoutFrequency  14942.0    81.224936   144.199576  0.00    13.00   \n",
       "n_lifetimeValue         14942.0   302.561871   364.319566  0.00    83.60   \n",
       "n_frequencies           14916.0    40.120542    65.466459  1.00     7.00   \n",
       "n_attendedClasses       14942.0    10.152456    29.154202  0.00     0.00   \n",
       "n_allowedWeeklyVisits   14407.0     5.759561     2.118867  1.00     4.00   \n",
       "n_allowedVisits         14942.0    41.636299    21.066166  0.56    25.72   \n",
       "n_realVisits            14942.0     5.320707     6.332958  0.00     1.00   \n",
       "n_renewals              14942.0     1.205260     1.381305  0.00     0.00   \n",
       "\n",
       "                            50%       75%       max  \n",
       "n_age                     23.00    31.000     87.00  \n",
       "n_income                1990.00  2790.000  10890.00  \n",
       "n_daysWithoutFrequency    41.00    83.750   1745.00  \n",
       "n_lifetimeValue          166.20   355.075   6727.80  \n",
       "n_frequencies             18.00    45.000   1031.00  \n",
       "n_attendedClasses          0.00     3.000    581.00  \n",
       "n_allowedWeeklyVisits      7.00     7.000      7.00  \n",
       "n_allowedVisits           38.99    60.970    240.03  \n",
       "n_realVisits               4.00     7.000     84.00  \n",
       "n_renewals                 1.00     2.000      6.00  "
      ]
     },
     "execution_count": 181,
     "metadata": {},
     "output_type": "execute_result"
    }
   ],
   "source": [
    "data[numerical_features].describe().T"
   ]
  },
  {
   "cell_type": "markdown",
   "metadata": {},
   "source": [
    "### __Dealing with missing values:__ \n",
    "- Median imputation for binary features\n",
    "- KNN imputation for numerical features"
   ]
  },
  {
   "cell_type": "code",
   "execution_count": 182,
   "metadata": {},
   "outputs": [
    {
     "data": {
      "text/plain": [
       "n_allowedWeeklyVisits    3.580511\n",
       "n_income                 3.312810\n",
       "b_waterActivities        0.247624\n",
       "b_fitnessActivities      0.234239\n",
       "b_teamActivities         0.234239\n",
       "b_combatActivities       0.220854\n",
       "n_frequencies            0.174006\n",
       "dtype: float64"
      ]
     },
     "execution_count": 182,
     "metadata": {},
     "output_type": "execute_result"
    }
   ],
   "source": [
    "def get_missing(data):\n",
    "    return 100*data.isna().sum()[data.isna().sum() != 0].sort_values(ascending=False)/data.shape[0]\n",
    "\n",
    "get_missing(data)"
   ]
  },
  {
   "cell_type": "markdown",
   "metadata": {},
   "source": [
    "__1. Binary features:__ we will fill with the most frequent value (mode), because it will not skew the data too much and we have very few missing values. "
   ]
  },
  {
   "cell_type": "code",
   "execution_count": 183,
   "metadata": {},
   "outputs": [],
   "source": [
    "to_impute = ['b_waterActivities', 'b_fitnessActivities', 'b_teamActivities', 'b_combatActivities']\n",
    "modes = data[to_impute].mode().iloc[0].to_dict()\n",
    "\n",
    "# Impute missing values\n",
    "data[to_impute] = data[to_impute].fillna(modes)"
   ]
  },
  {
   "cell_type": "markdown",
   "metadata": {},
   "source": [
    "__2. Numerical features:__ lets use a KNN imputer, because it will be able to fill the missing values with a more accurate value than the mean or median."
   ]
  },
  {
   "cell_type": "code",
   "execution_count": 184,
   "metadata": {},
   "outputs": [],
   "source": [
    "# Lets start with getting the Nan indices\n",
    "nan_indices = data[data['n_frequencies'].isna() | data['n_income'].isna() | data['n_allowedWeeklyVisits'].isna()].index\n",
    "\n",
    "# First scale the numerical features\n",
    "scaler = StandardScaler()\n",
    "data[numerical_features] = scaler.fit_transform(data[numerical_features])\n",
    "\n",
    "# Now fit the KNNImputer to the numerical features\n",
    "imputer = KNNImputer(n_neighbors=5)\n",
    "data[numerical_features] = imputer.fit_transform(data[numerical_features])\n",
    "\n",
    "# Now we can inverse the scaling\n",
    "data[numerical_features] = scaler.inverse_transform(data[numerical_features])"
   ]
  },
  {
   "cell_type": "code",
   "execution_count": 185,
   "metadata": {},
   "outputs": [
    {
     "data": {
      "text/html": [
       "<div>\n",
       "<style scoped>\n",
       "    .dataframe tbody tr th:only-of-type {\n",
       "        vertical-align: middle;\n",
       "    }\n",
       "\n",
       "    .dataframe tbody tr th {\n",
       "        vertical-align: top;\n",
       "    }\n",
       "\n",
       "    .dataframe thead th {\n",
       "        text-align: right;\n",
       "    }\n",
       "</style>\n",
       "<table border=\"1\" class=\"dataframe\">\n",
       "  <thead>\n",
       "    <tr style=\"text-align: right;\">\n",
       "      <th></th>\n",
       "      <th>n_age</th>\n",
       "      <th>n_income</th>\n",
       "      <th>n_daysWithoutFrequency</th>\n",
       "      <th>n_lifetimeValue</th>\n",
       "      <th>n_frequencies</th>\n",
       "      <th>n_attendedClasses</th>\n",
       "      <th>n_allowedWeeklyVisits</th>\n",
       "      <th>n_allowedVisits</th>\n",
       "      <th>n_realVisits</th>\n",
       "      <th>n_renewals</th>\n",
       "    </tr>\n",
       "  </thead>\n",
       "  <tbody>\n",
       "    <tr>\n",
       "      <th>0</th>\n",
       "      <td>60.0</td>\n",
       "      <td>5500.0</td>\n",
       "      <td>1.0</td>\n",
       "      <td>89.35</td>\n",
       "      <td>9.0</td>\n",
       "      <td>7.0</td>\n",
       "      <td>3.0</td>\n",
       "      <td>6.28</td>\n",
       "      <td>2.0</td>\n",
       "      <td>0.0</td>\n",
       "    </tr>\n",
       "    <tr>\n",
       "      <th>19</th>\n",
       "      <td>28.0</td>\n",
       "      <td>2510.0</td>\n",
       "      <td>10.0</td>\n",
       "      <td>52.00</td>\n",
       "      <td>2.0</td>\n",
       "      <td>0.0</td>\n",
       "      <td>7.0</td>\n",
       "      <td>24.01</td>\n",
       "      <td>2.0</td>\n",
       "      <td>0.0</td>\n",
       "    </tr>\n",
       "    <tr>\n",
       "      <th>34</th>\n",
       "      <td>74.0</td>\n",
       "      <td>5210.0</td>\n",
       "      <td>20.0</td>\n",
       "      <td>38.50</td>\n",
       "      <td>4.0</td>\n",
       "      <td>0.0</td>\n",
       "      <td>7.0</td>\n",
       "      <td>30.03</td>\n",
       "      <td>4.0</td>\n",
       "      <td>0.0</td>\n",
       "    </tr>\n",
       "    <tr>\n",
       "      <th>68</th>\n",
       "      <td>43.0</td>\n",
       "      <td>4036.0</td>\n",
       "      <td>1.0</td>\n",
       "      <td>849.80</td>\n",
       "      <td>214.0</td>\n",
       "      <td>0.0</td>\n",
       "      <td>7.0</td>\n",
       "      <td>21.98</td>\n",
       "      <td>9.0</td>\n",
       "      <td>3.0</td>\n",
       "    </tr>\n",
       "    <tr>\n",
       "      <th>76</th>\n",
       "      <td>9.0</td>\n",
       "      <td>0.0</td>\n",
       "      <td>5.0</td>\n",
       "      <td>708.20</td>\n",
       "      <td>64.0</td>\n",
       "      <td>64.0</td>\n",
       "      <td>2.0</td>\n",
       "      <td>17.42</td>\n",
       "      <td>6.0</td>\n",
       "      <td>2.0</td>\n",
       "    </tr>\n",
       "    <tr>\n",
       "      <th>...</th>\n",
       "      <td>...</td>\n",
       "      <td>...</td>\n",
       "      <td>...</td>\n",
       "      <td>...</td>\n",
       "      <td>...</td>\n",
       "      <td>...</td>\n",
       "      <td>...</td>\n",
       "      <td>...</td>\n",
       "      <td>...</td>\n",
       "      <td>...</td>\n",
       "    </tr>\n",
       "    <tr>\n",
       "      <th>14874</th>\n",
       "      <td>15.0</td>\n",
       "      <td>0.0</td>\n",
       "      <td>62.0</td>\n",
       "      <td>353.60</td>\n",
       "      <td>20.0</td>\n",
       "      <td>17.0</td>\n",
       "      <td>1.0</td>\n",
       "      <td>8.71</td>\n",
       "      <td>0.0</td>\n",
       "      <td>0.0</td>\n",
       "    </tr>\n",
       "    <tr>\n",
       "      <th>14898</th>\n",
       "      <td>23.0</td>\n",
       "      <td>1980.0</td>\n",
       "      <td>0.0</td>\n",
       "      <td>68.20</td>\n",
       "      <td>28.0</td>\n",
       "      <td>0.0</td>\n",
       "      <td>7.0</td>\n",
       "      <td>31.99</td>\n",
       "      <td>19.0</td>\n",
       "      <td>0.0</td>\n",
       "    </tr>\n",
       "    <tr>\n",
       "      <th>14904</th>\n",
       "      <td>21.0</td>\n",
       "      <td>1820.0</td>\n",
       "      <td>3.0</td>\n",
       "      <td>54.80</td>\n",
       "      <td>9.0</td>\n",
       "      <td>0.0</td>\n",
       "      <td>7.0</td>\n",
       "      <td>21.98</td>\n",
       "      <td>5.0</td>\n",
       "      <td>0.0</td>\n",
       "    </tr>\n",
       "    <tr>\n",
       "      <th>14930</th>\n",
       "      <td>4.0</td>\n",
       "      <td>686.0</td>\n",
       "      <td>38.0</td>\n",
       "      <td>77.60</td>\n",
       "      <td>5.0</td>\n",
       "      <td>5.0</td>\n",
       "      <td>2.0</td>\n",
       "      <td>17.42</td>\n",
       "      <td>7.0</td>\n",
       "      <td>1.0</td>\n",
       "    </tr>\n",
       "    <tr>\n",
       "      <th>14938</th>\n",
       "      <td>39.0</td>\n",
       "      <td>3168.0</td>\n",
       "      <td>38.0</td>\n",
       "      <td>343.85</td>\n",
       "      <td>57.0</td>\n",
       "      <td>0.0</td>\n",
       "      <td>7.0</td>\n",
       "      <td>60.97</td>\n",
       "      <td>3.0</td>\n",
       "      <td>0.0</td>\n",
       "    </tr>\n",
       "  </tbody>\n",
       "</table>\n",
       "<p>1030 rows × 10 columns</p>\n",
       "</div>"
      ],
      "text/plain": [
       "       n_age  n_income  n_daysWithoutFrequency  n_lifetimeValue  \\\n",
       "0       60.0    5500.0                     1.0            89.35   \n",
       "19      28.0    2510.0                    10.0            52.00   \n",
       "34      74.0    5210.0                    20.0            38.50   \n",
       "68      43.0    4036.0                     1.0           849.80   \n",
       "76       9.0       0.0                     5.0           708.20   \n",
       "...      ...       ...                     ...              ...   \n",
       "14874   15.0       0.0                    62.0           353.60   \n",
       "14898   23.0    1980.0                     0.0            68.20   \n",
       "14904   21.0    1820.0                     3.0            54.80   \n",
       "14930    4.0     686.0                    38.0            77.60   \n",
       "14938   39.0    3168.0                    38.0           343.85   \n",
       "\n",
       "       n_frequencies  n_attendedClasses  n_allowedWeeklyVisits  \\\n",
       "0                9.0                7.0                    3.0   \n",
       "19               2.0                0.0                    7.0   \n",
       "34               4.0                0.0                    7.0   \n",
       "68             214.0                0.0                    7.0   \n",
       "76              64.0               64.0                    2.0   \n",
       "...              ...                ...                    ...   \n",
       "14874           20.0               17.0                    1.0   \n",
       "14898           28.0                0.0                    7.0   \n",
       "14904            9.0                0.0                    7.0   \n",
       "14930            5.0                5.0                    2.0   \n",
       "14938           57.0                0.0                    7.0   \n",
       "\n",
       "       n_allowedVisits  n_realVisits  n_renewals  \n",
       "0                 6.28           2.0         0.0  \n",
       "19               24.01           2.0         0.0  \n",
       "34               30.03           4.0         0.0  \n",
       "68               21.98           9.0         3.0  \n",
       "76               17.42           6.0         2.0  \n",
       "...                ...           ...         ...  \n",
       "14874             8.71           0.0         0.0  \n",
       "14898            31.99          19.0         0.0  \n",
       "14904            21.98           5.0         0.0  \n",
       "14930            17.42           7.0         1.0  \n",
       "14938            60.97           3.0         0.0  \n",
       "\n",
       "[1030 rows x 10 columns]"
      ]
     },
     "execution_count": 185,
     "metadata": {},
     "output_type": "execute_result"
    }
   ],
   "source": [
    "data.loc[nan_indices, numerical_features]"
   ]
  },
  {
   "cell_type": "markdown",
   "metadata": {},
   "source": [
    "### __Feature engineering__"
   ]
  },
  {
   "cell_type": "code",
   "execution_count": 218,
   "metadata": {},
   "outputs": [
    {
     "data": {
      "text/plain": [
       "Index(['n_age', 'b_gender', 'n_income', 'd_enrollmentStart',\n",
       "       'd_enrollmentFinish', 'd_lastPeriodStart', 'd_lastPeriodFinish',\n",
       "       'd_lastVisit', 'n_daysWithoutFrequency', 'n_lifetimeValue',\n",
       "       'b_useByTime', 'b_waterActivities', 'b_fitnessActivities',\n",
       "       'b_teamActivities', 'b_combatActivities', 'n_frequencies',\n",
       "       'n_attendedClasses', 'n_allowedWeeklyVisits', 'n_allowedVisits',\n",
       "       'n_realVisits', 'n_renewals', 'b_dropout', 'c_age'],\n",
       "      dtype='object')"
      ]
     },
     "execution_count": 218,
     "metadata": {},
     "output_type": "execute_result"
    }
   ],
   "source": [
    "data.columns"
   ]
  },
  {
   "cell_type": "markdown",
   "metadata": {},
   "source": [
    "__Age class:__"
   ]
  },
  {
   "cell_type": "code",
   "execution_count": 286,
   "metadata": {},
   "outputs": [
    {
     "data": {
      "text/plain": [
       "20-35    7246\n",
       "5-20     3875\n",
       "35-49    1750\n",
       "<5        927\n",
       "49-65     836\n",
       "65+       308\n",
       "Name: c_age, dtype: int64"
      ]
     },
     "execution_count": 286,
     "metadata": {},
     "output_type": "execute_result"
    }
   ],
   "source": [
    "data['c_age'] = pd.cut(data['n_age'], bins=[-1, 5, 20, 35, 49, 65, np.inf], labels=['<5','5-20', '20-35', '35-49', '49-65', '65+'])\n",
    "data['c_age'].value_counts(dropna=False)"
   ]
  },
  {
   "cell_type": "markdown",
   "metadata": {},
   "source": [
    "It is quite odd that we have values for age that are bellow 5, but these are probably babies that are learning how to swim"
   ]
  },
  {
   "cell_type": "markdown",
   "metadata": {},
   "source": [
    "__Enrollment duration + categorical:__"
   ]
  },
  {
   "cell_type": "code",
   "execution_count": 280,
   "metadata": {},
   "outputs": [
    {
     "data": {
      "text/plain": [
       "6-12m    3707\n",
       "12m+     3657\n",
       "<1m      2850\n",
       "3-6m     2402\n",
       "1-3m     2326\n",
       "Name: c_membershipDuration, dtype: int64"
      ]
     },
     "execution_count": 280,
     "metadata": {},
     "output_type": "execute_result"
    }
   ],
   "source": [
    "data['n_enrollmentDuration'] = (pd.to_datetime(data['d_enrollmentFinish']) - pd.to_datetime(data['d_enrollmentStart'])).dt.days\n",
    "data['c_membershipDuration'] = pd.cut(data['n_enrollmentDuration'], bins=[-1, 30, 90, 180, 365, np.inf], labels=['<1m', '1-3m', '3-6m', '6-12m', '12m+'])\n",
    "data['c_membershipDuration'].value_counts()"
   ]
  },
  {
   "cell_type": "markdown",
   "metadata": {},
   "source": [
    "We dont want enrollment durations of 0, as these are probably errors. We have to investigate this further."
   ]
  },
  {
   "cell_type": "code",
   "execution_count": 318,
   "metadata": {},
   "outputs": [
    {
     "data": {
      "text/plain": [
       "nan"
      ]
     },
     "execution_count": 318,
     "metadata": {},
     "output_type": "execute_result"
    }
   ],
   "source": [
    "data[data['n_enrollmentDuration'] == 0]['b_dropout'].mean()"
   ]
  },
  {
   "cell_type": "markdown",
   "metadata": {},
   "source": [
    "This means that if we have a customer that has an enrollment duration of 0 he never dropped out. Lets then impute the 0 values with the maximum value of the enrollment duration."
   ]
  },
  {
   "cell_type": "code",
   "execution_count": 317,
   "metadata": {},
   "outputs": [],
   "source": [
    "data['n_enrollmentDuration'] = data.apply(lambda x: (pd.to_datetime('2019-10-31') - pd.to_datetime(x['d_enrollmentStart'])).days if x['n_enrollmentDuration'] == 0 else x['n_enrollmentDuration'], axis=1)"
   ]
  },
  {
   "cell_type": "markdown",
   "metadata": {},
   "source": [
    "__Last period duration:__"
   ]
  },
  {
   "cell_type": "code",
   "execution_count": 220,
   "metadata": {},
   "outputs": [],
   "source": [
    "data['n_lastPeriodDuration'] = (pd.to_datetime(data['d_lastPeriodFinish']) - pd.to_datetime(data['d_lastPeriodStart'])).dt.days"
   ]
  },
  {
   "cell_type": "markdown",
   "metadata": {},
   "source": [
    "__Days since last visit + categorical:__"
   ]
  },
  {
   "cell_type": "code",
   "execution_count": 321,
   "metadata": {},
   "outputs": [
    {
     "name": "stdout",
     "output_type": "stream",
     "text": [
      "Last data available on: 2019-10-31\n"
     ]
    },
    {
     "data": {
      "text/plain": [
       ">12m     9536\n",
       "3-12m    2558\n",
       "<1w      1929\n",
       "1-2w      395\n",
       "2-4w      262\n",
       "1-2m      260\n",
       "2-3m        2\n",
       "Name: c_sinceLastVisit, dtype: int64"
      ]
     },
     "execution_count": 321,
     "metadata": {},
     "output_type": "execute_result"
    }
   ],
   "source": [
    "print('Last data available on:', data['d_lastVisit'].value_counts().sort_index(ascending=False).index[0])\n",
    "data['n_sinceLastVisit'] = (pd.to_datetime(data['d_lastVisit']).max() - pd.to_datetime(data['d_lastVisit'])).dt.days\n",
    "\n",
    "data['c_sinceLastVisit'] = pd.cut(data['n_sinceLastVisit'], bins=[-1, 7, 14, 30, 60, 90, 365, np.inf], labels=['<1w', '1-2w', '2-4w', '1-2m', '2-3m', '3-12m', '>12m'])\n",
    "data['c_sinceLastVisit'].value_counts(dropna=False)"
   ]
  },
  {
   "cell_type": "markdown",
   "metadata": {},
   "source": [
    "__Number of frequencies per week:__ \n",
    "- The number of frequencies is the number of times a customer went to the facility during its enrollment period."
   ]
  },
  {
   "cell_type": "code",
   "execution_count": 326,
   "metadata": {},
   "outputs": [],
   "source": [
    "data['n_frequenciesWeek'] = 7 * data['n_frequencies'] / (data['n_enrollmentDuration'])"
   ]
  },
  {
   "cell_type": "code",
   "execution_count": 330,
   "metadata": {},
   "outputs": [
    {
     "data": {
      "text/plain": [
       "7.0    10779\n",
       "2.0     2386\n",
       "4.0      751\n",
       "1.0      526\n",
       "3.0      170\n",
       "6.0      141\n",
       "5.0       30\n",
       "1.8       20\n",
       "2.4       19\n",
       "6.4       19\n",
       "5.4       13\n",
       "2.2       13\n",
       "3.2       11\n",
       "2.6       10\n",
       "6.2        8\n",
       "1.6        7\n",
       "4.4        5\n",
       "4.6        4\n",
       "1.2        4\n",
       "2.8        4\n",
       "3.6        3\n",
       "4.8        3\n",
       "3.4        3\n",
       "5.8        3\n",
       "3.8        2\n",
       "1.4        2\n",
       "5.2        2\n",
       "6.8        1\n",
       "4.2        1\n",
       "6.6        1\n",
       "5.6        1\n",
       "Name: n_allowedWeeklyVisits, dtype: int64"
      ]
     },
     "execution_count": 330,
     "metadata": {},
     "output_type": "execute_result"
    }
   ],
   "source": [
    "data['n_allowedWeeklyVisits'].value_counts()"
   ]
  }
 ],
 "metadata": {
  "kernelspec": {
   "display_name": "Python 3",
   "language": "python",
   "name": "python3"
  },
  "language_info": {
   "codemirror_mode": {
    "name": "ipython",
    "version": 3
   },
   "file_extension": ".py",
   "mimetype": "text/x-python",
   "name": "python",
   "nbconvert_exporter": "python",
   "pygments_lexer": "ipython3",
   "version": "3.10.11"
  }
 },
 "nbformat": 4,
 "nbformat_minor": 2
}
