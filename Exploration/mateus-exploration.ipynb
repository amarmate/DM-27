{
 "cells": [
  {
   "cell_type": "markdown",
   "metadata": {},
   "source": [
    "# __Data Mining 27__\n",
    "\n",
    "### Features that are going to be used in the model (based on RFM model + other features)\n",
    "- __Recency__ -> How recently has a customer used the service:\n",
    "    - last time a customer went to the gym: **'n_sinceLastVisit'**\n",
    "<br><br>    \n",
    "- __Frequency__ -> How often has a customer used the service, variables that are going to be used:\n",
    "\n",
    "    - going to the gym: **'n_frequenciesWeek'**\n",
    "    - going to a class: **'n_classesWeek'**\n",
    "<br><br>\n",
    "- __Monetary value__ -> How much money has a customer spent or can spend:\n",
    "\n",
    "    - average spend per month: **'n_spendMonth'**\n",
    "    - spend rate (how much a customer is spending per month vs its income): **'n_spendRate'**\n",
    "<br><br>\n",
    "- __Loyalty__ -> How long has a customer been a customer:\n",
    "    - time as a customer: **'n_timeAsCustomer'**"
   ]
  },
  {
   "cell_type": "code",
   "execution_count": 107,
   "metadata": {},
   "outputs": [],
   "source": [
    "import pandas as pd\n",
    "import numpy as np \n",
    "import ydata_profiling\n",
    "import matplotlib.pyplot as plt\n",
    "import seaborn as sns\n",
    "\n",
    "\n",
    "# Scalers \n",
    "from sklearn.preprocessing import StandardScaler\n",
    "from sklearn.preprocessing import MinMaxScaler\n",
    "from sklearn.preprocessing import RobustScaler\n",
    "\n",
    "# Imputers\n",
    "from sklearn.impute import KNNImputer"
   ]
  },
  {
   "cell_type": "code",
   "execution_count": 158,
   "metadata": {},
   "outputs": [],
   "source": [
    "data = pd.read_csv('../Datasets/XYZ_sports_dataset.csv', sep=';')\n",
    "data_original = data.copy()"
   ]
  },
  {
   "cell_type": "markdown",
   "metadata": {},
   "source": [
    "### __1. First analysis and selection with pandas profiling__"
   ]
  },
  {
   "cell_type": "markdown",
   "metadata": {},
   "source": [
    "##### 0. Profiling"
   ]
  },
  {
   "cell_type": "code",
   "execution_count": 109,
   "metadata": {},
   "outputs": [],
   "source": [
    "# Lets make a profiling report\n",
    "#profile = pandas_profiling.ProfileReport(data)\n",
    "#profile.to_file(outputfile=\"XYZ_sports_dataset.html\")"
   ]
  },
  {
   "cell_type": "markdown",
   "metadata": {},
   "source": [
    "##### 1. Constant features\n",
    "- DanceActivities\n",
    "- NatureActivities"
   ]
  },
  {
   "cell_type": "code",
   "execution_count": 110,
   "metadata": {},
   "outputs": [],
   "source": [
    "data = data.drop(['DanceActivities', 'NatureActivities'], axis=1)"
   ]
  },
  {
   "cell_type": "markdown",
   "metadata": {},
   "source": [
    "##### 2. Quasi-constant features (highly inbalanced)\n",
    "- OtherActivities (98.0%)\n",
    "- AtheleticsActivities (93.7%)\n",
    "- NumberOfReferences (92.4%)\n",
    "\n",
    "Using a threshold of 90%. Variables not listed have a lower percentage of imbalance."
   ]
  },
  {
   "cell_type": "code",
   "execution_count": 111,
   "metadata": {},
   "outputs": [],
   "source": [
    "dropped = data[['OtherActivities', 'NumberOfReferences', 'AthleticsActivities']]\n",
    "data = data.drop(['OtherActivities', 'NumberOfReferences', 'AthleticsActivities'], axis=1)"
   ]
  },
  {
   "cell_type": "markdown",
   "metadata": {},
   "source": [
    "##### 3. Uniform features that provide no information \n",
    "Since all values are unique and they dont provide any kind of ordinal information, they are removed.\n",
    "- ID"
   ]
  },
  {
   "cell_type": "code",
   "execution_count": 112,
   "metadata": {},
   "outputs": [],
   "source": [
    "data = data.drop(['ID'], axis=1)"
   ]
  },
  {
   "cell_type": "markdown",
   "metadata": {},
   "source": [
    "##### 4. Get rid of duplicates "
   ]
  },
  {
   "cell_type": "code",
   "execution_count": 113,
   "metadata": {},
   "outputs": [
    {
     "name": "stdout",
     "output_type": "stream",
     "text": [
      "Number of duplicates: 1\n"
     ]
    }
   ],
   "source": [
    "# Search and delete duplicates\n",
    "print('Number of duplicates:', data.duplicated().sum())\n",
    "data = data.drop_duplicates()"
   ]
  },
  {
   "cell_type": "markdown",
   "metadata": {},
   "source": [
    "### __2. Feature name change for better understanding__\n",
    "Like this, I will be able to access them more easily and understand what they are.\n",
    "1. Binary will start with a b\n",
    "2. Numerical will start with n\n",
    "3. Date will start with d"
   ]
  },
  {
   "cell_type": "code",
   "execution_count": 114,
   "metadata": {},
   "outputs": [],
   "source": [
    "data.columns = ['n_age', 'b_gender', 'n_income', 'd_enrollmentStart', 'd_enrollmentFinish', 'd_lastPeriodStart', 'd_lastPeriodFinish', 'd_lastVisit', 'n_daysWithoutFrequency', 'n_lifetimeValue',\n",
    "                'b_useByTime', 'b_waterActivities', 'b_fitnessActivities', 'b_teamActivities', 'b_racketActivities', 'b_combatActivities', 'b_specialActivities', 'n_frequencies',\n",
    "                'n_attendedClasses', 'n_allowedWeeklyVisits', 'n_allowedVisits', 'n_realVisits', 'n_renewals', 'b_hasReferences', 'b_dropout']\n",
    "\n",
    "data['b_gender'] = data['b_gender'].map({'Male' : 0, 'Female' : 1})"
   ]
  },
  {
   "cell_type": "markdown",
   "metadata": {},
   "source": [
    "Lets recheck the imbalances in the binary and numerical features <br><br>\n",
    "__1. Binary features__"
   ]
  },
  {
   "cell_type": "code",
   "execution_count": 115,
   "metadata": {},
   "outputs": [
    {
     "data": {
      "text/html": [
       "<div>\n",
       "<style scoped>\n",
       "    .dataframe tbody tr th:only-of-type {\n",
       "        vertical-align: middle;\n",
       "    }\n",
       "\n",
       "    .dataframe tbody tr th {\n",
       "        vertical-align: top;\n",
       "    }\n",
       "\n",
       "    .dataframe thead th {\n",
       "        text-align: right;\n",
       "    }\n",
       "</style>\n",
       "<table border=\"1\" class=\"dataframe\">\n",
       "  <thead>\n",
       "    <tr style=\"text-align: right;\">\n",
       "      <th></th>\n",
       "      <th>balance</th>\n",
       "    </tr>\n",
       "  </thead>\n",
       "  <tbody>\n",
       "    <tr>\n",
       "      <th>b_fitnessActivities</th>\n",
       "      <td>73.6</td>\n",
       "    </tr>\n",
       "    <tr>\n",
       "      <th>b_gender</th>\n",
       "      <td>67.3</td>\n",
       "    </tr>\n",
       "    <tr>\n",
       "      <th>b_waterActivities</th>\n",
       "      <td>42.1</td>\n",
       "    </tr>\n",
       "    <tr>\n",
       "      <th>b_dropout</th>\n",
       "      <td>24.9</td>\n",
       "    </tr>\n",
       "    <tr>\n",
       "      <th>b_combatActivities</th>\n",
       "      <td>12.1</td>\n",
       "    </tr>\n",
       "    <tr>\n",
       "      <th>b_teamActivities</th>\n",
       "      <td>5.9</td>\n",
       "    </tr>\n",
       "    <tr>\n",
       "      <th>b_useByTime</th>\n",
       "      <td>4.9</td>\n",
       "    </tr>\n",
       "    <tr>\n",
       "      <th>b_specialActivities</th>\n",
       "      <td>2.7</td>\n",
       "    </tr>\n",
       "    <tr>\n",
       "      <th>b_racketActivities</th>\n",
       "      <td>2.4</td>\n",
       "    </tr>\n",
       "    <tr>\n",
       "      <th>b_hasReferences</th>\n",
       "      <td>2.0</td>\n",
       "    </tr>\n",
       "  </tbody>\n",
       "</table>\n",
       "</div>"
      ],
      "text/plain": [
       "                     balance\n",
       "b_fitnessActivities     73.6\n",
       "b_gender                67.3\n",
       "b_waterActivities       42.1\n",
       "b_dropout               24.9\n",
       "b_combatActivities      12.1\n",
       "b_teamActivities         5.9\n",
       "b_useByTime              4.9\n",
       "b_specialActivities      2.7\n",
       "b_racketActivities       2.4\n",
       "b_hasReferences          2.0"
      ]
     },
     "execution_count": 115,
     "metadata": {},
     "output_type": "execute_result"
    }
   ],
   "source": [
    "binary_features = [col for col in data.columns if col.startswith('b_')]\n",
    "\n",
    "balance = {}\n",
    "for feature in binary_features:\n",
    "    value_counts = data.value_counts(feature)\n",
    "    balance[feature] = 100* round(value_counts.min() / value_counts.max(),3)\n",
    "\n",
    "balance = pd.DataFrame.from_dict(balance, orient='index', columns=['balance'])\n",
    "balance = balance.sort_values(by='balance', ascending=False)\n",
    "balance"
   ]
  },
  {
   "cell_type": "markdown",
   "metadata": {},
   "source": [
    "Segmenting customers in such smalls groups is not the best idea (2% of the data). Lets set the threshold to 3% and remove the features that have less than that. \n",
    "We will, of course, keep a backup of the dropped features, because they might be useful for feature engineering:\n",
    "- Joining the very unlikely activities into one feature might prove useful, but that's an idea for later"
   ]
  },
  {
   "cell_type": "code",
   "execution_count": 116,
   "metadata": {},
   "outputs": [],
   "source": [
    "# Remove features with balance < 3%\n",
    "remove = balance[balance['balance'] < 3].index.to_list()\n",
    "dropped = pd.concat([data[remove], dropped], axis=1)\n",
    "data = data.drop(remove, axis=1)"
   ]
  },
  {
   "cell_type": "markdown",
   "metadata": {},
   "source": [
    "\n",
    "__2. Numerical Features__"
   ]
  },
  {
   "cell_type": "code",
   "execution_count": 117,
   "metadata": {},
   "outputs": [],
   "source": [
    "numerical_features = [col for col in data.columns if col.startswith('n_')]"
   ]
  },
  {
   "cell_type": "code",
   "execution_count": 118,
   "metadata": {},
   "outputs": [
    {
     "data": {
      "text/html": [
       "<div>\n",
       "<style scoped>\n",
       "    .dataframe tbody tr th:only-of-type {\n",
       "        vertical-align: middle;\n",
       "    }\n",
       "\n",
       "    .dataframe tbody tr th {\n",
       "        vertical-align: top;\n",
       "    }\n",
       "\n",
       "    .dataframe thead th {\n",
       "        text-align: right;\n",
       "    }\n",
       "</style>\n",
       "<table border=\"1\" class=\"dataframe\">\n",
       "  <thead>\n",
       "    <tr style=\"text-align: right;\">\n",
       "      <th></th>\n",
       "      <th>count</th>\n",
       "      <th>mean</th>\n",
       "      <th>std</th>\n",
       "      <th>min</th>\n",
       "      <th>25%</th>\n",
       "      <th>50%</th>\n",
       "      <th>75%</th>\n",
       "      <th>max</th>\n",
       "    </tr>\n",
       "  </thead>\n",
       "  <tbody>\n",
       "    <tr>\n",
       "      <th>n_age</th>\n",
       "      <td>14941.0</td>\n",
       "      <td>26.016732</td>\n",
       "      <td>14.156592</td>\n",
       "      <td>0.00</td>\n",
       "      <td>19.00</td>\n",
       "      <td>23.00</td>\n",
       "      <td>31.00</td>\n",
       "      <td>87.00</td>\n",
       "    </tr>\n",
       "    <tr>\n",
       "      <th>n_income</th>\n",
       "      <td>14446.0</td>\n",
       "      <td>2230.970511</td>\n",
       "      <td>1566.471988</td>\n",
       "      <td>0.00</td>\n",
       "      <td>1470.00</td>\n",
       "      <td>1990.00</td>\n",
       "      <td>2790.00</td>\n",
       "      <td>10890.00</td>\n",
       "    </tr>\n",
       "    <tr>\n",
       "      <th>n_daysWithoutFrequency</th>\n",
       "      <td>14941.0</td>\n",
       "      <td>81.227629</td>\n",
       "      <td>144.204026</td>\n",
       "      <td>0.00</td>\n",
       "      <td>13.00</td>\n",
       "      <td>41.00</td>\n",
       "      <td>84.00</td>\n",
       "      <td>1745.00</td>\n",
       "    </tr>\n",
       "    <tr>\n",
       "      <th>n_lifetimeValue</th>\n",
       "      <td>14941.0</td>\n",
       "      <td>302.577212</td>\n",
       "      <td>364.326932</td>\n",
       "      <td>0.00</td>\n",
       "      <td>83.60</td>\n",
       "      <td>166.20</td>\n",
       "      <td>355.10</td>\n",
       "      <td>6727.80</td>\n",
       "    </tr>\n",
       "    <tr>\n",
       "      <th>n_frequencies</th>\n",
       "      <td>14915.0</td>\n",
       "      <td>40.122293</td>\n",
       "      <td>65.468305</td>\n",
       "      <td>1.00</td>\n",
       "      <td>7.00</td>\n",
       "      <td>18.00</td>\n",
       "      <td>45.00</td>\n",
       "      <td>1031.00</td>\n",
       "    </tr>\n",
       "    <tr>\n",
       "      <th>n_attendedClasses</th>\n",
       "      <td>14941.0</td>\n",
       "      <td>10.152667</td>\n",
       "      <td>29.155167</td>\n",
       "      <td>0.00</td>\n",
       "      <td>0.00</td>\n",
       "      <td>0.00</td>\n",
       "      <td>3.00</td>\n",
       "      <td>581.00</td>\n",
       "    </tr>\n",
       "    <tr>\n",
       "      <th>n_allowedWeeklyVisits</th>\n",
       "      <td>14406.0</td>\n",
       "      <td>5.759614</td>\n",
       "      <td>2.118931</td>\n",
       "      <td>1.00</td>\n",
       "      <td>4.00</td>\n",
       "      <td>7.00</td>\n",
       "      <td>7.00</td>\n",
       "      <td>7.00</td>\n",
       "    </tr>\n",
       "    <tr>\n",
       "      <th>n_allowedVisits</th>\n",
       "      <td>14941.0</td>\n",
       "      <td>41.636121</td>\n",
       "      <td>21.066860</td>\n",
       "      <td>0.56</td>\n",
       "      <td>25.72</td>\n",
       "      <td>38.99</td>\n",
       "      <td>60.97</td>\n",
       "      <td>240.03</td>\n",
       "    </tr>\n",
       "    <tr>\n",
       "      <th>n_realVisits</th>\n",
       "      <td>14941.0</td>\n",
       "      <td>5.320394</td>\n",
       "      <td>6.333055</td>\n",
       "      <td>0.00</td>\n",
       "      <td>1.00</td>\n",
       "      <td>4.00</td>\n",
       "      <td>7.00</td>\n",
       "      <td>84.00</td>\n",
       "    </tr>\n",
       "    <tr>\n",
       "      <th>n_renewals</th>\n",
       "      <td>14941.0</td>\n",
       "      <td>1.205274</td>\n",
       "      <td>1.381350</td>\n",
       "      <td>0.00</td>\n",
       "      <td>0.00</td>\n",
       "      <td>1.00</td>\n",
       "      <td>2.00</td>\n",
       "      <td>6.00</td>\n",
       "    </tr>\n",
       "  </tbody>\n",
       "</table>\n",
       "</div>"
      ],
      "text/plain": [
       "                          count         mean          std   min      25%  \\\n",
       "n_age                   14941.0    26.016732    14.156592  0.00    19.00   \n",
       "n_income                14446.0  2230.970511  1566.471988  0.00  1470.00   \n",
       "n_daysWithoutFrequency  14941.0    81.227629   144.204026  0.00    13.00   \n",
       "n_lifetimeValue         14941.0   302.577212   364.326932  0.00    83.60   \n",
       "n_frequencies           14915.0    40.122293    65.468305  1.00     7.00   \n",
       "n_attendedClasses       14941.0    10.152667    29.155167  0.00     0.00   \n",
       "n_allowedWeeklyVisits   14406.0     5.759614     2.118931  1.00     4.00   \n",
       "n_allowedVisits         14941.0    41.636121    21.066860  0.56    25.72   \n",
       "n_realVisits            14941.0     5.320394     6.333055  0.00     1.00   \n",
       "n_renewals              14941.0     1.205274     1.381350  0.00     0.00   \n",
       "\n",
       "                            50%      75%       max  \n",
       "n_age                     23.00    31.00     87.00  \n",
       "n_income                1990.00  2790.00  10890.00  \n",
       "n_daysWithoutFrequency    41.00    84.00   1745.00  \n",
       "n_lifetimeValue          166.20   355.10   6727.80  \n",
       "n_frequencies             18.00    45.00   1031.00  \n",
       "n_attendedClasses          0.00     3.00    581.00  \n",
       "n_allowedWeeklyVisits      7.00     7.00      7.00  \n",
       "n_allowedVisits           38.99    60.97    240.03  \n",
       "n_realVisits               4.00     7.00     84.00  \n",
       "n_renewals                 1.00     2.00      6.00  "
      ]
     },
     "execution_count": 118,
     "metadata": {},
     "output_type": "execute_result"
    }
   ],
   "source": [
    "data[numerical_features].describe().T"
   ]
  },
  {
   "cell_type": "markdown",
   "metadata": {},
   "source": [
    "### __3. Dealing with missing values:__ \n",
    "- Median imputation for binary features\n",
    "- KNN imputation for numerical features"
   ]
  },
  {
   "cell_type": "code",
   "execution_count": 119,
   "metadata": {},
   "outputs": [
    {
     "data": {
      "text/plain": [
       "n_allowedWeeklyVisits    3.580751\n",
       "n_income                 3.313031\n",
       "b_waterActivities        0.247641\n",
       "b_fitnessActivities      0.234255\n",
       "b_teamActivities         0.234255\n",
       "b_combatActivities       0.220869\n",
       "n_frequencies            0.174018\n",
       "dtype: float64"
      ]
     },
     "execution_count": 119,
     "metadata": {},
     "output_type": "execute_result"
    }
   ],
   "source": [
    "def get_missing(data):\n",
    "    return 100*data.isna().sum()[data.isna().sum() != 0].sort_values(ascending=False)/data.shape[0]\n",
    "\n",
    "get_missing(data)"
   ]
  },
  {
   "cell_type": "markdown",
   "metadata": {},
   "source": [
    "__1. Binary features:__ we will fill with the most frequent value (mode), because it will not skew the data too much and we have very few missing values. "
   ]
  },
  {
   "cell_type": "code",
   "execution_count": 120,
   "metadata": {},
   "outputs": [],
   "source": [
    "to_impute = ['b_waterActivities', 'b_fitnessActivities', 'b_teamActivities', 'b_combatActivities']\n",
    "modes = data[to_impute].mode().iloc[0].to_dict()\n",
    "\n",
    "# Impute missing values\n",
    "data[to_impute] = data[to_impute].fillna(modes)"
   ]
  },
  {
   "cell_type": "markdown",
   "metadata": {},
   "source": [
    "__2. Numerical features:__ lets use a KNN imputer, because it will be able to fill the missing values with a more accurate value than the mean or median."
   ]
  },
  {
   "cell_type": "code",
   "execution_count": 121,
   "metadata": {},
   "outputs": [],
   "source": [
    "# Lets start with getting the Nan indices\n",
    "nan_indices = data[data['n_frequencies'].isna() | data['n_income'].isna() | data['n_allowedWeeklyVisits'].isna()].index\n",
    "\n",
    "# First scale the numerical features\n",
    "scaler = StandardScaler()\n",
    "data[numerical_features] = scaler.fit_transform(data[numerical_features])\n",
    "\n",
    "# Now fit the KNNImputer to the numerical features\n",
    "imputer = KNNImputer(n_neighbors=5)\n",
    "data[numerical_features] = imputer.fit_transform(data[numerical_features])\n",
    "\n",
    "# Now we can inverse the scaling\n",
    "data[numerical_features] = scaler.inverse_transform(data[numerical_features])"
   ]
  },
  {
   "cell_type": "code",
   "execution_count": 122,
   "metadata": {},
   "outputs": [
    {
     "data": {
      "text/html": [
       "<div>\n",
       "<style scoped>\n",
       "    .dataframe tbody tr th:only-of-type {\n",
       "        vertical-align: middle;\n",
       "    }\n",
       "\n",
       "    .dataframe tbody tr th {\n",
       "        vertical-align: top;\n",
       "    }\n",
       "\n",
       "    .dataframe thead th {\n",
       "        text-align: right;\n",
       "    }\n",
       "</style>\n",
       "<table border=\"1\" class=\"dataframe\">\n",
       "  <thead>\n",
       "    <tr style=\"text-align: right;\">\n",
       "      <th></th>\n",
       "      <th>n_age</th>\n",
       "      <th>n_income</th>\n",
       "      <th>n_daysWithoutFrequency</th>\n",
       "      <th>n_lifetimeValue</th>\n",
       "      <th>n_frequencies</th>\n",
       "      <th>n_attendedClasses</th>\n",
       "      <th>n_allowedWeeklyVisits</th>\n",
       "      <th>n_allowedVisits</th>\n",
       "      <th>n_realVisits</th>\n",
       "      <th>n_renewals</th>\n",
       "    </tr>\n",
       "  </thead>\n",
       "  <tbody>\n",
       "    <tr>\n",
       "      <th>0</th>\n",
       "      <td>60.0</td>\n",
       "      <td>5500.0</td>\n",
       "      <td>1.0</td>\n",
       "      <td>89.35</td>\n",
       "      <td>9.0</td>\n",
       "      <td>7.0</td>\n",
       "      <td>3.0</td>\n",
       "      <td>6.28</td>\n",
       "      <td>2.0</td>\n",
       "      <td>0.0</td>\n",
       "    </tr>\n",
       "    <tr>\n",
       "      <th>19</th>\n",
       "      <td>28.0</td>\n",
       "      <td>2510.0</td>\n",
       "      <td>10.0</td>\n",
       "      <td>52.00</td>\n",
       "      <td>2.0</td>\n",
       "      <td>0.0</td>\n",
       "      <td>7.0</td>\n",
       "      <td>24.01</td>\n",
       "      <td>2.0</td>\n",
       "      <td>0.0</td>\n",
       "    </tr>\n",
       "    <tr>\n",
       "      <th>34</th>\n",
       "      <td>74.0</td>\n",
       "      <td>5210.0</td>\n",
       "      <td>20.0</td>\n",
       "      <td>38.50</td>\n",
       "      <td>4.0</td>\n",
       "      <td>0.0</td>\n",
       "      <td>7.0</td>\n",
       "      <td>30.03</td>\n",
       "      <td>4.0</td>\n",
       "      <td>0.0</td>\n",
       "    </tr>\n",
       "    <tr>\n",
       "      <th>68</th>\n",
       "      <td>43.0</td>\n",
       "      <td>4036.0</td>\n",
       "      <td>1.0</td>\n",
       "      <td>849.80</td>\n",
       "      <td>214.0</td>\n",
       "      <td>0.0</td>\n",
       "      <td>7.0</td>\n",
       "      <td>21.98</td>\n",
       "      <td>9.0</td>\n",
       "      <td>3.0</td>\n",
       "    </tr>\n",
       "    <tr>\n",
       "      <th>76</th>\n",
       "      <td>9.0</td>\n",
       "      <td>0.0</td>\n",
       "      <td>5.0</td>\n",
       "      <td>708.20</td>\n",
       "      <td>64.0</td>\n",
       "      <td>64.0</td>\n",
       "      <td>2.0</td>\n",
       "      <td>17.42</td>\n",
       "      <td>6.0</td>\n",
       "      <td>2.0</td>\n",
       "    </tr>\n",
       "    <tr>\n",
       "      <th>...</th>\n",
       "      <td>...</td>\n",
       "      <td>...</td>\n",
       "      <td>...</td>\n",
       "      <td>...</td>\n",
       "      <td>...</td>\n",
       "      <td>...</td>\n",
       "      <td>...</td>\n",
       "      <td>...</td>\n",
       "      <td>...</td>\n",
       "      <td>...</td>\n",
       "    </tr>\n",
       "    <tr>\n",
       "      <th>14874</th>\n",
       "      <td>15.0</td>\n",
       "      <td>0.0</td>\n",
       "      <td>62.0</td>\n",
       "      <td>353.60</td>\n",
       "      <td>20.0</td>\n",
       "      <td>17.0</td>\n",
       "      <td>1.0</td>\n",
       "      <td>8.71</td>\n",
       "      <td>0.0</td>\n",
       "      <td>0.0</td>\n",
       "    </tr>\n",
       "    <tr>\n",
       "      <th>14898</th>\n",
       "      <td>23.0</td>\n",
       "      <td>1980.0</td>\n",
       "      <td>0.0</td>\n",
       "      <td>68.20</td>\n",
       "      <td>28.0</td>\n",
       "      <td>0.0</td>\n",
       "      <td>7.0</td>\n",
       "      <td>31.99</td>\n",
       "      <td>19.0</td>\n",
       "      <td>0.0</td>\n",
       "    </tr>\n",
       "    <tr>\n",
       "      <th>14904</th>\n",
       "      <td>21.0</td>\n",
       "      <td>1820.0</td>\n",
       "      <td>3.0</td>\n",
       "      <td>54.80</td>\n",
       "      <td>9.0</td>\n",
       "      <td>0.0</td>\n",
       "      <td>7.0</td>\n",
       "      <td>21.98</td>\n",
       "      <td>5.0</td>\n",
       "      <td>0.0</td>\n",
       "    </tr>\n",
       "    <tr>\n",
       "      <th>14930</th>\n",
       "      <td>4.0</td>\n",
       "      <td>686.0</td>\n",
       "      <td>38.0</td>\n",
       "      <td>77.60</td>\n",
       "      <td>5.0</td>\n",
       "      <td>5.0</td>\n",
       "      <td>2.0</td>\n",
       "      <td>17.42</td>\n",
       "      <td>7.0</td>\n",
       "      <td>1.0</td>\n",
       "    </tr>\n",
       "    <tr>\n",
       "      <th>14938</th>\n",
       "      <td>39.0</td>\n",
       "      <td>3168.0</td>\n",
       "      <td>38.0</td>\n",
       "      <td>343.85</td>\n",
       "      <td>57.0</td>\n",
       "      <td>0.0</td>\n",
       "      <td>7.0</td>\n",
       "      <td>60.97</td>\n",
       "      <td>3.0</td>\n",
       "      <td>0.0</td>\n",
       "    </tr>\n",
       "  </tbody>\n",
       "</table>\n",
       "<p>1030 rows × 10 columns</p>\n",
       "</div>"
      ],
      "text/plain": [
       "       n_age  n_income  n_daysWithoutFrequency  n_lifetimeValue  \\\n",
       "0       60.0    5500.0                     1.0            89.35   \n",
       "19      28.0    2510.0                    10.0            52.00   \n",
       "34      74.0    5210.0                    20.0            38.50   \n",
       "68      43.0    4036.0                     1.0           849.80   \n",
       "76       9.0       0.0                     5.0           708.20   \n",
       "...      ...       ...                     ...              ...   \n",
       "14874   15.0       0.0                    62.0           353.60   \n",
       "14898   23.0    1980.0                     0.0            68.20   \n",
       "14904   21.0    1820.0                     3.0            54.80   \n",
       "14930    4.0     686.0                    38.0            77.60   \n",
       "14938   39.0    3168.0                    38.0           343.85   \n",
       "\n",
       "       n_frequencies  n_attendedClasses  n_allowedWeeklyVisits  \\\n",
       "0                9.0                7.0                    3.0   \n",
       "19               2.0                0.0                    7.0   \n",
       "34               4.0                0.0                    7.0   \n",
       "68             214.0                0.0                    7.0   \n",
       "76              64.0               64.0                    2.0   \n",
       "...              ...                ...                    ...   \n",
       "14874           20.0               17.0                    1.0   \n",
       "14898           28.0                0.0                    7.0   \n",
       "14904            9.0                0.0                    7.0   \n",
       "14930            5.0                5.0                    2.0   \n",
       "14938           57.0                0.0                    7.0   \n",
       "\n",
       "       n_allowedVisits  n_realVisits  n_renewals  \n",
       "0                 6.28           2.0         0.0  \n",
       "19               24.01           2.0         0.0  \n",
       "34               30.03           4.0         0.0  \n",
       "68               21.98           9.0         3.0  \n",
       "76               17.42           6.0         2.0  \n",
       "...                ...           ...         ...  \n",
       "14874             8.71           0.0         0.0  \n",
       "14898            31.99          19.0         0.0  \n",
       "14904            21.98           5.0         0.0  \n",
       "14930            17.42           7.0         1.0  \n",
       "14938            60.97           3.0         0.0  \n",
       "\n",
       "[1030 rows x 10 columns]"
      ]
     },
     "execution_count": 122,
     "metadata": {},
     "output_type": "execute_result"
    }
   ],
   "source": [
    "data.loc[nan_indices, numerical_features]"
   ]
  },
  {
   "cell_type": "markdown",
   "metadata": {},
   "source": [
    "### __4. Feature engineering__"
   ]
  },
  {
   "cell_type": "code",
   "execution_count": 123,
   "metadata": {},
   "outputs": [
    {
     "data": {
      "text/plain": [
       "Index(['n_age', 'b_gender', 'n_income', 'd_enrollmentStart',\n",
       "       'd_enrollmentFinish', 'd_lastPeriodStart', 'd_lastPeriodFinish',\n",
       "       'd_lastVisit', 'n_daysWithoutFrequency', 'n_lifetimeValue',\n",
       "       'b_useByTime', 'b_waterActivities', 'b_fitnessActivities',\n",
       "       'b_teamActivities', 'b_combatActivities', 'n_frequencies',\n",
       "       'n_attendedClasses', 'n_allowedWeeklyVisits', 'n_allowedVisits',\n",
       "       'n_realVisits', 'n_renewals', 'b_dropout'],\n",
       "      dtype='object')"
      ]
     },
     "execution_count": 123,
     "metadata": {},
     "output_type": "execute_result"
    }
   ],
   "source": [
    "data.columns"
   ]
  },
  {
   "cell_type": "markdown",
   "metadata": {},
   "source": [
    "##### __Age class:__"
   ]
  },
  {
   "cell_type": "code",
   "execution_count": 124,
   "metadata": {},
   "outputs": [
    {
     "data": {
      "text/plain": [
       "20-35    7246\n",
       "5-20     3874\n",
       "35-49    1750\n",
       "<5        927\n",
       "49-65     836\n",
       "65+       308\n",
       "Name: c_age, dtype: int64"
      ]
     },
     "execution_count": 124,
     "metadata": {},
     "output_type": "execute_result"
    }
   ],
   "source": [
    "data['c_age'] = pd.cut(data['n_age'], bins=[-1, 5, 20, 35, 49, 65, np.inf], labels=['<5','5-20', '20-35', '35-49', '49-65', '65+'])\n",
    "data['c_age'].value_counts(dropna=False)"
   ]
  },
  {
   "cell_type": "markdown",
   "metadata": {},
   "source": [
    "It is quite odd that we have values for age that are bellow 5, but these are probably babies that are learning how to swim"
   ]
  },
  {
   "cell_type": "markdown",
   "metadata": {},
   "source": [
    "#### __Durations__ "
   ]
  },
  {
   "cell_type": "markdown",
   "metadata": {},
   "source": [
    "##### __Enrollment duration + categorical:__"
   ]
  },
  {
   "cell_type": "code",
   "execution_count": 140,
   "metadata": {},
   "outputs": [
    {
     "data": {
      "text/plain": [
       "count    14941.000000\n",
       "mean       295.718493\n",
       "std        356.829856\n",
       "min          0.000000\n",
       "25%         57.000000\n",
       "50%        174.000000\n",
       "75%        364.000000\n",
       "max       1938.000000\n",
       "Name: n_timeAsCustomer, dtype: float64"
      ]
     },
     "execution_count": 140,
     "metadata": {},
     "output_type": "execute_result"
    }
   ],
   "source": [
    "data['n_timeAsCustomer'] = ((pd.to_datetime(data['d_enrollmentFinish']) - pd.to_datetime(data['d_enrollmentStart'])).dt.days).astype(float)\n",
    "data['n_timeAsCustomer'].describe()"
   ]
  },
  {
   "cell_type": "markdown",
   "metadata": {},
   "source": [
    "We dont want enrollment durations of 0, as these are probably errors. We have to investigate this further."
   ]
  },
  {
   "cell_type": "code",
   "execution_count": 141,
   "metadata": {},
   "outputs": [
    {
     "data": {
      "text/plain": [
       "0.0"
      ]
     },
     "execution_count": 141,
     "metadata": {},
     "output_type": "execute_result"
    }
   ],
   "source": [
    "data[data['n_timeAsCustomer'] == 0]['b_dropout'].mean()"
   ]
  },
  {
   "cell_type": "markdown",
   "metadata": {},
   "source": [
    "This means that if we have a customer that has an enrollment duration of 0 he never dropped out. Lets then impute the 0 values with the maximum value of the enrollment duration."
   ]
  },
  {
   "cell_type": "code",
   "execution_count": 142,
   "metadata": {},
   "outputs": [
    {
     "data": {
      "text/plain": [
       "0         1-3m\n",
       "1         12m+\n",
       "2          <1m\n",
       "3         3-6m\n",
       "4         12m+\n",
       "         ...  \n",
       "14937     12m+\n",
       "14938    6-12m\n",
       "14939      <1m\n",
       "14940     12m+\n",
       "14941     12m+\n",
       "Name: c_timeAsCustomer, Length: 14941, dtype: category\n",
       "Categories (5, object): ['<1m' < '1-3m' < '3-6m' < '6-12m' < '12m+']"
      ]
     },
     "execution_count": 142,
     "metadata": {},
     "output_type": "execute_result"
    }
   ],
   "source": [
    "data['n_timeAsCustomer'] = data.apply(lambda x: (pd.to_datetime('2019-10-31') - pd.to_datetime(x['d_enrollmentStart'])).days if x['n_timeAsCustomer'] == 0 else x['n_timeAsCustomer'], axis=1)\n",
    "data['c_timeAsCustomer'] = pd.cut(data['n_timeAsCustomer'], bins=[-0.1, 30, 90, 180, 365, np.inf], labels=['<1m', '1-3m', '3-6m', '6-12m', '12m+'])\n",
    "data['c_timeAsCustomer']"
   ]
  },
  {
   "cell_type": "code",
   "execution_count": 143,
   "metadata": {},
   "outputs": [],
   "source": [
    "# Remove the date columns\n",
    "data = data.drop(['d_enrollmentStart', 'd_enrollmentFinish'], axis=1)"
   ]
  },
  {
   "cell_type": "markdown",
   "metadata": {},
   "source": [
    "##### __Last period duration:__"
   ]
  },
  {
   "cell_type": "code",
   "execution_count": 144,
   "metadata": {},
   "outputs": [],
   "source": [
    "data['n_lastPeriodDuration'] = (pd.to_datetime(data['d_lastPeriodFinish']) - pd.to_datetime(data['d_lastPeriodStart'])).dt.days\n",
    "# Remove the date columns\n",
    "data = data.drop(['d_lastPeriodStart', 'd_lastPeriodFinish'], axis=1)"
   ]
  },
  {
   "cell_type": "markdown",
   "metadata": {},
   "source": [
    "##### __Days since last visit + categorical:__"
   ]
  },
  {
   "cell_type": "code",
   "execution_count": 145,
   "metadata": {},
   "outputs": [
    {
     "name": "stdout",
     "output_type": "stream",
     "text": [
      "Last data available on: 2019-10-31\n"
     ]
    }
   ],
   "source": [
    "print('Last data available on:', data['d_lastVisit'].value_counts().sort_index(ascending=False).index[0])\n",
    "data['n_sinceLastVisit'] = (pd.to_datetime(data['d_lastVisit']).max() - pd.to_datetime(data['d_lastVisit'])).dt.days\n",
    "\n",
    "data['c_sinceLastVisit'] = pd.cut(data['n_sinceLastVisit'], bins=[-1, 7, 14, 30, 60, 90, 365, np.inf], labels=['<1w', '1-2w', '2-4w', '1-2m', '2-3m', '3-12m', '>12m'])\n",
    "print(data['c_sinceLastVisit'].value_counts(dropna=False))\n",
    "\n",
    "# Remove the date columns\n",
    "data = data.drop(['d_lastVisit'], axis=1)"
   ]
  },
  {
   "cell_type": "markdown",
   "metadata": {},
   "source": [
    "#### __Relative features__"
   ]
  },
  {
   "cell_type": "markdown",
   "metadata": {},
   "source": [
    "##### __Number of frequencies per week + categorical:__ \n",
    "- The number of frequencies is the number of times a customer went to the facility during its enrollment period.\n",
    "- We will also delete the number of freqeuncies, as the number of frequencies per week is a better feature."
   ]
  },
  {
   "cell_type": "code",
   "execution_count": 130,
   "metadata": {},
   "outputs": [
    {
     "data": {
      "text/plain": [
       "0.5-1      4437\n",
       "0.2-0.5    4351\n",
       "1-2        2695\n",
       "0.1-0.2    1544\n",
       "<0.1       1126\n",
       "2-3         620\n",
       ">3          168\n",
       "Name: c_frequenciesWeek, dtype: int64"
      ]
     },
     "execution_count": 130,
     "metadata": {},
     "output_type": "execute_result"
    }
   ],
   "source": [
    "data['n_frequenciesWeek'] = 7 * data['n_frequencies'] / (data['n_enrollmentDuration'])\n",
    "# Make a categorical feature\n",
    "data['c_frequenciesWeek'] = pd.cut(data['n_frequenciesWeek'], bins=[-1, 0.1, 0.2, 0.5, 1, 2, 3, np.inf], labels=['<0.1', '0.1-0.2', '0.2-0.5', '0.5-1', '1-2', '2-3', '>3'])\n",
    "data['c_frequenciesWeek'].value_counts()"
   ]
  },
  {
   "cell_type": "code",
   "execution_count": 131,
   "metadata": {},
   "outputs": [],
   "source": [
    "# Drop the original features\n",
    "dropped = pd.concat([dropped, data[['n_frequencies']]], axis=1)\n",
    "data = data.drop(['n_frequencies'], axis=1)"
   ]
  },
  {
   "cell_type": "markdown",
   "metadata": {},
   "source": [
    "##### __Attended classes per week + categorical:__\n",
    "- The number of attended classes per week is the number of times a customer attended a class during its enrollment period.\n",
    "- We will also delete the number of attended classes, as the number of attended classes per week is a better feature."
   ]
  },
  {
   "cell_type": "code",
   "execution_count": 150,
   "metadata": {},
   "outputs": [
    {
     "name": "stdout",
     "output_type": "stream",
     "text": [
      "0          10432\n",
      "0.1-0.5     2239\n",
      "0.5-1       1150\n",
      "<0.1         812\n",
      ">1           308\n",
      "Name: c_classesWeek, dtype: int64\n"
     ]
    }
   ],
   "source": [
    "data['n_classesWeek'] = 7 * data['n_attendedClasses'] / (data['n_enrollmentDuration'])\n",
    "data['c_classesWeek'] = pd.cut(data['n_classesWeek'], bins=[-1, 0, 0.1, 0.5, 1, np.inf], labels=['0', '<0.1', '0.1-0.5', '0.5-1', '>1'])\n",
    "print(data['c_classesWeek'].value_counts())\n",
    "# Drop the n_attendedClasses\n",
    "dropped = pd.concat([dropped, data[['n_attendedClasses']]], axis=1)\n",
    "data = data.drop(['n_attendedClasses'], axis=1)"
   ]
  },
  {
   "cell_type": "markdown",
   "metadata": {},
   "source": [
    "##### __Service utilization + categorical:__"
   ]
  },
  {
   "cell_type": "code",
   "execution_count": 132,
   "metadata": {},
   "outputs": [
    {
     "data": {
      "text/plain": [
       "count    14941.000000\n",
       "mean        15.694226\n",
       "std         18.079938\n",
       "min          0.000000\n",
       "25%          3.224766\n",
       "50%          9.990010\n",
       "75%         22.962113\n",
       "max        254.017626\n",
       "Name: n_ratioUtilization, dtype: float64"
      ]
     },
     "execution_count": 132,
     "metadata": {},
     "output_type": "execute_result"
    }
   ],
   "source": [
    "data['n_ratioUtilization'] = 100 * data['n_realVisits'] / data['n_allowedVisits']\n",
    "data['n_ratioUtilization'].describe()   "
   ]
  },
  {
   "cell_type": "markdown",
   "metadata": {},
   "source": [
    "Lets cap it at 100, otherwise it doesnt make sense."
   ]
  },
  {
   "cell_type": "code",
   "execution_count": 151,
   "metadata": {},
   "outputs": [
    {
     "name": "stdout",
     "output_type": "stream",
     "text": [
      "count    14941.000000\n",
      "mean        15.608739\n",
      "std         17.539408\n",
      "min          0.000000\n",
      "25%          3.224766\n",
      "50%          9.990010\n",
      "75%         22.962113\n",
      "max        100.000000\n",
      "Name: n_ratioUtilization, dtype: float64\n"
     ]
    }
   ],
   "source": [
    "data.loc[data['n_ratioUtilization'] > 100, 'n_ratioUtilization'] = 100\n",
    "print(data['n_ratioUtilization'].describe())\n",
    "data['c_utilization'] = pd.cut(data['n_ratioUtilization'], bins=[-1, 25, 50, 75, np.inf], labels=['<25%', '25-50%', '50-75%', '>75%']) "
   ]
  },
  {
   "cell_type": "markdown",
   "metadata": {},
   "source": [
    "#### __Monetary features__"
   ]
  },
  {
   "cell_type": "markdown",
   "metadata": {},
   "source": [
    "__Spent per month:__\n",
    "- Problem: people pay for their membership in advance, so there wil be noise added for people with a lot of months left in their membership. Moreover, people that have just subscribed will have an even larger value. "
   ]
  },
  {
   "cell_type": "code",
   "execution_count": 209,
   "metadata": {},
   "outputs": [
    {
     "data": {
      "text/plain": [
       "<Axes: title={'center': 'Enrollment duration vs renewals'}, xlabel='n_enrollmentDuration', ylabel='n_renewals'>"
      ]
     },
     "execution_count": 209,
     "metadata": {},
     "output_type": "execute_result"
    },
    {
     "data": {
      "image/png": "[encoded data removed]",
      "text/plain": [
       "<Figure size 640x480 with 1 Axes>"
      ]
     },
     "metadata": {},
     "output_type": "display_data"
    }
   ],
   "source": [
    "data.plot.scatter(x='n_enrollmentDuration', y='n_renewals', title='Enrollment duration vs renewals')    "
   ]
  },
  {
   "cell_type": "markdown",
   "metadata": {},
   "source": [
    "As we can see there is a very large correaltion between the number of renewals and the enrollment duration "
   ]
  },
  {
   "cell_type": "code",
   "execution_count": 264,
   "metadata": {},
   "outputs": [
    {
     "data": {
      "text/plain": [
       "count    14941.000000\n",
       "mean       125.555951\n",
       "std         90.084350\n",
       "min          0.000000\n",
       "25%         59.533333\n",
       "50%         99.700000\n",
       "75%        168.900000\n",
       "max       1681.950000\n",
       "Name: n_spentPerMonth, dtype: float64"
      ]
     },
     "execution_count": 264,
     "metadata": {},
     "output_type": "execute_result"
    }
   ],
   "source": [
    "# Spent per month \n",
    "data['n_spentPerMonth'] = data['n_lifetimeValue'] / (data['n_renewals'] + 1)\n",
    "data['n_spentPerMonth'].describe()"
   ]
  },
  {
   "cell_type": "markdown",
   "metadata": {},
   "source": [
    "### __5. Variable correlations__\n",
    "- Correlation between numerical variables"
   ]
  },
  {
   "cell_type": "markdown",
   "metadata": {},
   "source": [
    "__Numerical features__"
   ]
  },
  {
   "cell_type": "code",
   "execution_count": 92,
   "metadata": {},
   "outputs": [
    {
     "data": {
      "image/png": "[encoded data removed]",
      "text/plain": [
       "<Figure size 1100x900 with 2 Axes>"
      ]
     },
     "metadata": {},
     "output_type": "display_data"
    }
   ],
   "source": [
    "numerical_features = [col for col in data.columns if col.startswith('n_')]\n",
    "\n",
    "# Correlation between numerical features sns\n",
    "corr = data[numerical_features].corr()\n",
    "# mask = np.triu(np.ones_like(corr, dtype=bool))\n",
    "f, ax = plt.subplots(figsize=(11, 9))\n",
    "cmap = sns.diverging_palette(230, 20, as_cmap=True)\n",
    "# Remove the n_ prefix\n",
    "corr.columns = corr.columns.str.replace('n_', '')\n",
    "corr.index = corr.index.str.replace('n_', '')\n",
    "sns.heatmap(corr, cmap=cmap, square=True, linewidths=.5, cbar_kws={\"shrink\": .5}, ax=ax)\n",
    "# Add annotation\n",
    "for i in range(len(corr)):\n",
    "    for j in range(len(corr)):\n",
    "        if i != j:\n",
    "            ax.text(i+0.5, j+0.5, round(corr.iloc[i,j],2), ha=\"center\", va=\"center\", color=\"w\")\n",
    "ax.set_title('Correlation Matrix')\n",
    "plt.show()"
   ]
  },
  {
   "cell_type": "markdown",
   "metadata": {},
   "source": [
    "1. High correlations -> between age and income and renewals and enrollmentDuration, we can drop the age (which will be used after the clustering algorithm is done for visualization) and the renewals, because the renewals are less correlated with the other variables than the enrollment duration -> $[age, renewals]$\n",
    "\n",
    "2. Low correlations -> lastPeriodDuration is not correlated with anything really -> $[lastPeriodDuration]$\n",
    "\n",
    "3. Allowed weekly visits is highly correlated with the total number of allowed visits, so we will drop the total allowed visits because it is less correlated with the other variables and because we already used it to create the ratioUtilization variable -> $[allowedVisits]$\n",
    "\n",
    "4. We will also drop the daysWithoutFrequency variable, which means the number of days that a customer needed to not visit the facility to be considered a dropout, because of relevancy and low correlation to other features -> $[daysWithoutFrequency]$"
   ]
  },
  {
   "cell_type": "code",
   "execution_count": 89,
   "metadata": {},
   "outputs": [],
   "source": [
    "dropped = pd.concat([data[['n_age', 'n_renewals', 'n_lastPeriodDuration', 'n_allowedVisits', 'n_daysWithoutFrequency']], dropped], axis=1)\n",
    "data = data.drop(['n_age', 'n_renewals', 'n_lastPeriodDuration', 'n_allowedVisits', 'n_daysWithoutFrequency'], axis=1)"
   ]
  },
  {
   "cell_type": "markdown",
   "metadata": {},
   "source": [
    "### __6. Outlier detection__"
   ]
  }
 ],
 "metadata": {
  "kernelspec": {
   "display_name": "Python 3",
   "language": "python",
   "name": "python3"
  },
  "language_info": {
   "codemirror_mode": {
    "name": "ipython",
    "version": 3
   },
   "file_extension": ".py",
   "mimetype": "text/x-python",
   "name": "python",
   "nbconvert_exporter": "python",
   "pygments_lexer": "ipython3",
   "version": "3.10.11"
  }
 },
 "nbformat": 4,
 "nbformat_minor": 2
}
